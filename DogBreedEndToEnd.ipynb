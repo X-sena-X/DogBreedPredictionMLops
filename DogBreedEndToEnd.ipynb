{
  "nbformat": 4,
  "nbformat_minor": 0,
  "metadata": {
    "colab": {
      "provenance": [],
      "gpuType": "T4"
    },
    "kernelspec": {
      "name": "python3",
      "display_name": "Python 3"
    },
    "language_info": {
      "name": "python"
    },
    "accelerator": "GPU"
  },
  "cells": [
    {
      "cell_type": "markdown",
      "source": [
        "# End To End MLOPS project to predict Dog Breed"
      ],
      "metadata": {
        "id": "rNILEDv-4NMH"
      }
    },
    {
      "cell_type": "markdown",
      "source": [
        "## Importing the packages"
      ],
      "metadata": {
        "id": "vZEjgWrt_XSc"
      }
    },
    {
      "cell_type": "code",
      "execution_count": null,
      "metadata": {
        "id": "y6YhaeVF0_gQ",
        "colab": {
          "base_uri": "https://localhost:8080/"
        },
        "outputId": "aa48ebad-2a88-4793-dc74-6be94038ca19"
      },
      "outputs": [
        {
          "output_type": "stream",
          "name": "stdout",
          "text": [
            "Collecting ultralytics\n",
            "  Downloading ultralytics-8.0.196-py3-none-any.whl (631 kB)\n",
            "\u001b[2K     \u001b[90m━━━━━━━━━━━━━━━━━━━━━━━━━━━━━━━━━━━━━━━\u001b[0m \u001b[32m631.1/631.1 kB\u001b[0m \u001b[31m6.6 MB/s\u001b[0m eta \u001b[36m0:00:00\u001b[0m\n",
            "\u001b[?25hRequirement already satisfied: matplotlib>=3.3.0 in /usr/local/lib/python3.10/dist-packages (from ultralytics) (3.7.1)\n",
            "Requirement already satisfied: numpy>=1.22.2 in /usr/local/lib/python3.10/dist-packages (from ultralytics) (1.23.5)\n",
            "Requirement already satisfied: opencv-python>=4.6.0 in /usr/local/lib/python3.10/dist-packages (from ultralytics) (4.8.0.76)\n",
            "Requirement already satisfied: pillow>=7.1.2 in /usr/local/lib/python3.10/dist-packages (from ultralytics) (9.4.0)\n",
            "Requirement already satisfied: pyyaml>=5.3.1 in /usr/local/lib/python3.10/dist-packages (from ultralytics) (6.0.1)\n",
            "Requirement already satisfied: requests>=2.23.0 in /usr/local/lib/python3.10/dist-packages (from ultralytics) (2.31.0)\n",
            "Requirement already satisfied: scipy>=1.4.1 in /usr/local/lib/python3.10/dist-packages (from ultralytics) (1.11.3)\n",
            "Requirement already satisfied: torch>=1.8.0 in /usr/local/lib/python3.10/dist-packages (from ultralytics) (2.0.1+cu118)\n",
            "Requirement already satisfied: torchvision>=0.9.0 in /usr/local/lib/python3.10/dist-packages (from ultralytics) (0.15.2+cu118)\n",
            "Requirement already satisfied: tqdm>=4.64.0 in /usr/local/lib/python3.10/dist-packages (from ultralytics) (4.66.1)\n",
            "Requirement already satisfied: pandas>=1.1.4 in /usr/local/lib/python3.10/dist-packages (from ultralytics) (1.5.3)\n",
            "Requirement already satisfied: seaborn>=0.11.0 in /usr/local/lib/python3.10/dist-packages (from ultralytics) (0.12.2)\n",
            "Requirement already satisfied: psutil in /usr/local/lib/python3.10/dist-packages (from ultralytics) (5.9.5)\n",
            "Requirement already satisfied: py-cpuinfo in /usr/local/lib/python3.10/dist-packages (from ultralytics) (9.0.0)\n",
            "Collecting thop>=0.1.1 (from ultralytics)\n",
            "  Downloading thop-0.1.1.post2209072238-py3-none-any.whl (15 kB)\n",
            "Requirement already satisfied: contourpy>=1.0.1 in /usr/local/lib/python3.10/dist-packages (from matplotlib>=3.3.0->ultralytics) (1.1.1)\n",
            "Requirement already satisfied: cycler>=0.10 in /usr/local/lib/python3.10/dist-packages (from matplotlib>=3.3.0->ultralytics) (0.12.0)\n",
            "Requirement already satisfied: fonttools>=4.22.0 in /usr/local/lib/python3.10/dist-packages (from matplotlib>=3.3.0->ultralytics) (4.43.0)\n",
            "Requirement already satisfied: kiwisolver>=1.0.1 in /usr/local/lib/python3.10/dist-packages (from matplotlib>=3.3.0->ultralytics) (1.4.5)\n",
            "Requirement already satisfied: packaging>=20.0 in /usr/local/lib/python3.10/dist-packages (from matplotlib>=3.3.0->ultralytics) (23.2)\n",
            "Requirement already satisfied: pyparsing>=2.3.1 in /usr/local/lib/python3.10/dist-packages (from matplotlib>=3.3.0->ultralytics) (3.1.1)\n",
            "Requirement already satisfied: python-dateutil>=2.7 in /usr/local/lib/python3.10/dist-packages (from matplotlib>=3.3.0->ultralytics) (2.8.2)\n",
            "Requirement already satisfied: pytz>=2020.1 in /usr/local/lib/python3.10/dist-packages (from pandas>=1.1.4->ultralytics) (2023.3.post1)\n",
            "Requirement already satisfied: charset-normalizer<4,>=2 in /usr/local/lib/python3.10/dist-packages (from requests>=2.23.0->ultralytics) (3.3.0)\n",
            "Requirement already satisfied: idna<4,>=2.5 in /usr/local/lib/python3.10/dist-packages (from requests>=2.23.0->ultralytics) (3.4)\n",
            "Requirement already satisfied: urllib3<3,>=1.21.1 in /usr/local/lib/python3.10/dist-packages (from requests>=2.23.0->ultralytics) (2.0.6)\n",
            "Requirement already satisfied: certifi>=2017.4.17 in /usr/local/lib/python3.10/dist-packages (from requests>=2.23.0->ultralytics) (2023.7.22)\n",
            "Requirement already satisfied: filelock in /usr/local/lib/python3.10/dist-packages (from torch>=1.8.0->ultralytics) (3.12.4)\n",
            "Requirement already satisfied: typing-extensions in /usr/local/lib/python3.10/dist-packages (from torch>=1.8.0->ultralytics) (4.5.0)\n",
            "Requirement already satisfied: sympy in /usr/local/lib/python3.10/dist-packages (from torch>=1.8.0->ultralytics) (1.12)\n",
            "Requirement already satisfied: networkx in /usr/local/lib/python3.10/dist-packages (from torch>=1.8.0->ultralytics) (3.1)\n",
            "Requirement already satisfied: jinja2 in /usr/local/lib/python3.10/dist-packages (from torch>=1.8.0->ultralytics) (3.1.2)\n",
            "Requirement already satisfied: triton==2.0.0 in /usr/local/lib/python3.10/dist-packages (from torch>=1.8.0->ultralytics) (2.0.0)\n",
            "Requirement already satisfied: cmake in /usr/local/lib/python3.10/dist-packages (from triton==2.0.0->torch>=1.8.0->ultralytics) (3.27.6)\n",
            "Requirement already satisfied: lit in /usr/local/lib/python3.10/dist-packages (from triton==2.0.0->torch>=1.8.0->ultralytics) (17.0.2)\n",
            "Requirement already satisfied: six>=1.5 in /usr/local/lib/python3.10/dist-packages (from python-dateutil>=2.7->matplotlib>=3.3.0->ultralytics) (1.16.0)\n",
            "Requirement already satisfied: MarkupSafe>=2.0 in /usr/local/lib/python3.10/dist-packages (from jinja2->torch>=1.8.0->ultralytics) (2.1.3)\n",
            "Requirement already satisfied: mpmath>=0.19 in /usr/local/lib/python3.10/dist-packages (from sympy->torch>=1.8.0->ultralytics) (1.3.0)\n",
            "Installing collected packages: thop, ultralytics\n",
            "Successfully installed thop-0.1.1.post2209072238 ultralytics-8.0.196\n",
            "Requirement already satisfied: joblib in /usr/local/lib/python3.10/dist-packages (1.3.2)\n"
          ]
        }
      ],
      "source": [
        "!pip install ultralytics\n",
        "!pip install joblib\n",
        "import tensorflow as tf\n",
        "import numpy as np\n",
        "import pandas as pd\n",
        "import os\n",
        "import cv2\n",
        "import matplotlib.pyplot as plt\n",
        "from PIL import Image\n",
        "import xml.etree.ElementTree as ET\n",
        "from tensorflow.keras.layers import Dense, Flatten\n",
        "from tensorflow.keras.models import Sequential\n",
        "from tensorflow.keras.optimizers import Adam\n",
        "from google.colab import files"
      ]
    },
    {
      "cell_type": "markdown",
      "source": [
        "## Connecting Kaggle"
      ],
      "metadata": {
        "id": "r4j1aBq5_fFT"
      }
    },
    {
      "cell_type": "code",
      "source": [
        "\n",
        "uploaded = files.upload()\n",
        "#\n",
        "!mkdir -p /root/.kaggle\n",
        "!mv kaggle.json /root/.kaggle/\n",
        "!chmod 600 /root/.kaggle/kaggle.json\n",
        "!kaggle config view"
      ],
      "metadata": {
        "colab": {
          "base_uri": "https://localhost:8080/",
          "height": 159
        },
        "id": "bQ65-paB4MzQ",
        "outputId": "f202ebeb-66aa-4828-aae0-75d97f443dfb"
      },
      "execution_count": null,
      "outputs": [
        {
          "output_type": "display_data",
          "data": {
            "text/plain": [
              "<IPython.core.display.HTML object>"
            ],
            "text/html": [
              "\n",
              "     <input type=\"file\" id=\"files-89b9f5e6-1717-4858-b2d7-71868aad6ec4\" name=\"files[]\" multiple disabled\n",
              "        style=\"border:none\" />\n",
              "     <output id=\"result-89b9f5e6-1717-4858-b2d7-71868aad6ec4\">\n",
              "      Upload widget is only available when the cell has been executed in the\n",
              "      current browser session. Please rerun this cell to enable.\n",
              "      </output>\n",
              "      <script>// Copyright 2017 Google LLC\n",
              "//\n",
              "// Licensed under the Apache License, Version 2.0 (the \"License\");\n",
              "// you may not use this file except in compliance with the License.\n",
              "// You may obtain a copy of the License at\n",
              "//\n",
              "//      http://www.apache.org/licenses/LICENSE-2.0\n",
              "//\n",
              "// Unless required by applicable law or agreed to in writing, software\n",
              "// distributed under the License is distributed on an \"AS IS\" BASIS,\n",
              "// WITHOUT WARRANTIES OR CONDITIONS OF ANY KIND, either express or implied.\n",
              "// See the License for the specific language governing permissions and\n",
              "// limitations under the License.\n",
              "\n",
              "/**\n",
              " * @fileoverview Helpers for google.colab Python module.\n",
              " */\n",
              "(function(scope) {\n",
              "function span(text, styleAttributes = {}) {\n",
              "  const element = document.createElement('span');\n",
              "  element.textContent = text;\n",
              "  for (const key of Object.keys(styleAttributes)) {\n",
              "    element.style[key] = styleAttributes[key];\n",
              "  }\n",
              "  return element;\n",
              "}\n",
              "\n",
              "// Max number of bytes which will be uploaded at a time.\n",
              "const MAX_PAYLOAD_SIZE = 100 * 1024;\n",
              "\n",
              "function _uploadFiles(inputId, outputId) {\n",
              "  const steps = uploadFilesStep(inputId, outputId);\n",
              "  const outputElement = document.getElementById(outputId);\n",
              "  // Cache steps on the outputElement to make it available for the next call\n",
              "  // to uploadFilesContinue from Python.\n",
              "  outputElement.steps = steps;\n",
              "\n",
              "  return _uploadFilesContinue(outputId);\n",
              "}\n",
              "\n",
              "// This is roughly an async generator (not supported in the browser yet),\n",
              "// where there are multiple asynchronous steps and the Python side is going\n",
              "// to poll for completion of each step.\n",
              "// This uses a Promise to block the python side on completion of each step,\n",
              "// then passes the result of the previous step as the input to the next step.\n",
              "function _uploadFilesContinue(outputId) {\n",
              "  const outputElement = document.getElementById(outputId);\n",
              "  const steps = outputElement.steps;\n",
              "\n",
              "  const next = steps.next(outputElement.lastPromiseValue);\n",
              "  return Promise.resolve(next.value.promise).then((value) => {\n",
              "    // Cache the last promise value to make it available to the next\n",
              "    // step of the generator.\n",
              "    outputElement.lastPromiseValue = value;\n",
              "    return next.value.response;\n",
              "  });\n",
              "}\n",
              "\n",
              "/**\n",
              " * Generator function which is called between each async step of the upload\n",
              " * process.\n",
              " * @param {string} inputId Element ID of the input file picker element.\n",
              " * @param {string} outputId Element ID of the output display.\n",
              " * @return {!Iterable<!Object>} Iterable of next steps.\n",
              " */\n",
              "function* uploadFilesStep(inputId, outputId) {\n",
              "  const inputElement = document.getElementById(inputId);\n",
              "  inputElement.disabled = false;\n",
              "\n",
              "  const outputElement = document.getElementById(outputId);\n",
              "  outputElement.innerHTML = '';\n",
              "\n",
              "  const pickedPromise = new Promise((resolve) => {\n",
              "    inputElement.addEventListener('change', (e) => {\n",
              "      resolve(e.target.files);\n",
              "    });\n",
              "  });\n",
              "\n",
              "  const cancel = document.createElement('button');\n",
              "  inputElement.parentElement.appendChild(cancel);\n",
              "  cancel.textContent = 'Cancel upload';\n",
              "  const cancelPromise = new Promise((resolve) => {\n",
              "    cancel.onclick = () => {\n",
              "      resolve(null);\n",
              "    };\n",
              "  });\n",
              "\n",
              "  // Wait for the user to pick the files.\n",
              "  const files = yield {\n",
              "    promise: Promise.race([pickedPromise, cancelPromise]),\n",
              "    response: {\n",
              "      action: 'starting',\n",
              "    }\n",
              "  };\n",
              "\n",
              "  cancel.remove();\n",
              "\n",
              "  // Disable the input element since further picks are not allowed.\n",
              "  inputElement.disabled = true;\n",
              "\n",
              "  if (!files) {\n",
              "    return {\n",
              "      response: {\n",
              "        action: 'complete',\n",
              "      }\n",
              "    };\n",
              "  }\n",
              "\n",
              "  for (const file of files) {\n",
              "    const li = document.createElement('li');\n",
              "    li.append(span(file.name, {fontWeight: 'bold'}));\n",
              "    li.append(span(\n",
              "        `(${file.type || 'n/a'}) - ${file.size} bytes, ` +\n",
              "        `last modified: ${\n",
              "            file.lastModifiedDate ? file.lastModifiedDate.toLocaleDateString() :\n",
              "                                    'n/a'} - `));\n",
              "    const percent = span('0% done');\n",
              "    li.appendChild(percent);\n",
              "\n",
              "    outputElement.appendChild(li);\n",
              "\n",
              "    const fileDataPromise = new Promise((resolve) => {\n",
              "      const reader = new FileReader();\n",
              "      reader.onload = (e) => {\n",
              "        resolve(e.target.result);\n",
              "      };\n",
              "      reader.readAsArrayBuffer(file);\n",
              "    });\n",
              "    // Wait for the data to be ready.\n",
              "    let fileData = yield {\n",
              "      promise: fileDataPromise,\n",
              "      response: {\n",
              "        action: 'continue',\n",
              "      }\n",
              "    };\n",
              "\n",
              "    // Use a chunked sending to avoid message size limits. See b/62115660.\n",
              "    let position = 0;\n",
              "    do {\n",
              "      const length = Math.min(fileData.byteLength - position, MAX_PAYLOAD_SIZE);\n",
              "      const chunk = new Uint8Array(fileData, position, length);\n",
              "      position += length;\n",
              "\n",
              "      const base64 = btoa(String.fromCharCode.apply(null, chunk));\n",
              "      yield {\n",
              "        response: {\n",
              "          action: 'append',\n",
              "          file: file.name,\n",
              "          data: base64,\n",
              "        },\n",
              "      };\n",
              "\n",
              "      let percentDone = fileData.byteLength === 0 ?\n",
              "          100 :\n",
              "          Math.round((position / fileData.byteLength) * 100);\n",
              "      percent.textContent = `${percentDone}% done`;\n",
              "\n",
              "    } while (position < fileData.byteLength);\n",
              "  }\n",
              "\n",
              "  // All done.\n",
              "  yield {\n",
              "    response: {\n",
              "      action: 'complete',\n",
              "    }\n",
              "  };\n",
              "}\n",
              "\n",
              "scope.google = scope.google || {};\n",
              "scope.google.colab = scope.google.colab || {};\n",
              "scope.google.colab._files = {\n",
              "  _uploadFiles,\n",
              "  _uploadFilesContinue,\n",
              "};\n",
              "})(self);\n",
              "</script> "
            ]
          },
          "metadata": {}
        },
        {
          "output_type": "stream",
          "name": "stdout",
          "text": [
            "Saving kaggle.json to kaggle.json\n",
            "Configuration values from /root/.kaggle\n",
            "- username: senaabhishek\n",
            "- path: None\n",
            "- proxy: None\n",
            "- competition: None\n"
          ]
        }
      ]
    },
    {
      "cell_type": "markdown",
      "source": [],
      "metadata": {
        "id": "92GX-wPq_eCx"
      }
    },
    {
      "cell_type": "code",
      "source": [
        "!kaggle datasets download -d jessicali9530/stanford-dogs-dataset\n",
        "!unzip -q stanford-dogs-dataset.zip -d ./stanford-dogs-dataset"
      ],
      "metadata": {
        "colab": {
          "base_uri": "https://localhost:8080/"
        },
        "id": "1kcaUdnJ4M4k",
        "outputId": "3a2d447c-9ff6-4beb-dffe-997e1fa9d533"
      },
      "execution_count": null,
      "outputs": [
        {
          "output_type": "stream",
          "name": "stdout",
          "text": [
            "Downloading stanford-dogs-dataset.zip to /content\n",
            " 99% 744M/750M [00:09<00:00, 126MB/s]\n",
            "100% 750M/750M [00:09<00:00, 83.6MB/s]\n"
          ]
        }
      ]
    },
    {
      "cell_type": "markdown",
      "source": [
        "## Cropping Dog Dataset"
      ],
      "metadata": {
        "id": "1otzR5y0AHvy"
      }
    },
    {
      "cell_type": "code",
      "source": [
        "image_dir = './stanford-dogs-dataset/images/Images/'\n",
        "breed_list = os.listdir(image_dir)\n",
        "\n",
        "num_classes = len(breed_list)\n",
        "print(\"{} breeds\".format(num_classes))\n",
        "\n",
        "n_total_images = 0\n",
        "for breed in breed_list:\n",
        "    n_total_images += len(os.listdir(image_dir+\"{}\".format(breed)))\n",
        "print(\"{} images\".format(n_total_images))"
      ],
      "metadata": {
        "colab": {
          "base_uri": "https://localhost:8080/"
        },
        "id": "QqUyT_nHDfpW",
        "outputId": "fb33354c-daa4-4298-a91d-2e647fd97024"
      },
      "execution_count": null,
      "outputs": [
        {
          "output_type": "stream",
          "name": "stdout",
          "text": [
            "120 breeds\n",
            "20580 images\n"
          ]
        }
      ]
    },
    {
      "cell_type": "code",
      "source": [
        "dataset_dir = \"./stanford-dogs-dataset/\"\n",
        "os.mkdir('data')\n",
        "for breed in breed_list:\n",
        "    os.mkdir('data/' + breed)\n",
        "print('Created {} folders to store cropped images of the different breeds.'.format(len(os.listdir('data'))))\n",
        "\n",
        "for breed in os.listdir('data'):\n",
        "    for file in os.listdir(dataset_dir+'annotations/Annotation/{}'.format(breed)):\n",
        "        img = Image.open(dataset_dir+'images/Images/{}/{}.jpg'.format(breed, file))\n",
        "        tree = ET.parse(dataset_dir+'annotations/Annotation/{}/{}'.format(breed, file))\n",
        "        xmin = int(tree.getroot().findall('object')[0].find('bndbox').find('xmin').text)\n",
        "        xmax = int(tree.getroot().findall('object')[0].find('bndbox').find('xmax').text)\n",
        "        ymin = int(tree.getroot().findall('object')[0].find('bndbox').find('ymin').text)\n",
        "        ymax = int(tree.getroot().findall('object')[0].find('bndbox').find('ymax').text)\n",
        "        img = img.crop((xmin, ymin, xmax, ymax))\n",
        "        img = img.convert('RGB')\n",
        "        img = img.resize((224, 224))\n",
        "        img.save('data/' + breed + '/' + file + '.jpg')"
      ],
      "metadata": {
        "colab": {
          "base_uri": "https://localhost:8080/"
        },
        "id": "Eqm7oLjWLqlK",
        "outputId": "5701036e-bcb6-40c3-bc39-d5a985bf1997"
      },
      "execution_count": null,
      "outputs": [
        {
          "output_type": "stream",
          "name": "stdout",
          "text": [
            "Created 120 folders to store cropped images of the different breeds.\n"
          ]
        }
      ]
    },
    {
      "cell_type": "markdown",
      "source": [
        "## Splitting into train and test set"
      ],
      "metadata": {
        "id": "L006eiLFATYT"
      }
    },
    {
      "cell_type": "code",
      "source": [
        "data_dir = \"./data/\"\n",
        "img_height, img_width = (224,224)\n",
        "batch_size = 32"
      ],
      "metadata": {
        "id": "oEcO86Qv1Yin"
      },
      "execution_count": null,
      "outputs": []
    },
    {
      "cell_type": "code",
      "source": [
        "train_ds,val_ds = tf.keras.preprocessing.image_dataset_from_directory(\n",
        "    data_dir,\n",
        "    validation_split = 0.2,\n",
        "    subset = \"both\",\n",
        "    seed =120,\n",
        "    label_mode = \"categorical\",\n",
        "    image_size = (img_height,img_width),\n",
        "    batch_size = batch_size\n",
        ")"
      ],
      "metadata": {
        "colab": {
          "base_uri": "https://localhost:8080/"
        },
        "id": "LQ-OOoVg1Ylg",
        "outputId": "4cabf890-c926-47f3-f948-f8487669ea60"
      },
      "execution_count": null,
      "outputs": [
        {
          "output_type": "stream",
          "name": "stdout",
          "text": [
            "Found 20580 files belonging to 120 classes.\n",
            "Using 16464 files for training.\n",
            "Using 4116 files for validation.\n"
          ]
        }
      ]
    },
    {
      "cell_type": "code",
      "source": [
        "class_names = train_ds.class_names"
      ],
      "metadata": {
        "id": "tbI10_XP3rDH"
      },
      "execution_count": null,
      "outputs": []
    },
    {
      "cell_type": "code",
      "source": [
        "class_names"
      ],
      "metadata": {
        "id": "fVanwGh9NbJd",
        "outputId": "7acc6872-b0f3-49d4-bea1-99d566323164",
        "colab": {
          "base_uri": "https://localhost:8080/"
        }
      },
      "execution_count": null,
      "outputs": [
        {
          "output_type": "execute_result",
          "data": {
            "text/plain": [
              "['n02085620-Chihuahua',\n",
              " 'n02085782-Japanese_spaniel',\n",
              " 'n02085936-Maltese_dog',\n",
              " 'n02086079-Pekinese',\n",
              " 'n02086240-Shih-Tzu',\n",
              " 'n02086646-Blenheim_spaniel',\n",
              " 'n02086910-papillon',\n",
              " 'n02087046-toy_terrier',\n",
              " 'n02087394-Rhodesian_ridgeback',\n",
              " 'n02088094-Afghan_hound',\n",
              " 'n02088238-basset',\n",
              " 'n02088364-beagle',\n",
              " 'n02088466-bloodhound',\n",
              " 'n02088632-bluetick',\n",
              " 'n02089078-black-and-tan_coonhound',\n",
              " 'n02089867-Walker_hound',\n",
              " 'n02089973-English_foxhound',\n",
              " 'n02090379-redbone',\n",
              " 'n02090622-borzoi',\n",
              " 'n02090721-Irish_wolfhound',\n",
              " 'n02091032-Italian_greyhound',\n",
              " 'n02091134-whippet',\n",
              " 'n02091244-Ibizan_hound',\n",
              " 'n02091467-Norwegian_elkhound',\n",
              " 'n02091635-otterhound',\n",
              " 'n02091831-Saluki',\n",
              " 'n02092002-Scottish_deerhound',\n",
              " 'n02092339-Weimaraner',\n",
              " 'n02093256-Staffordshire_bullterrier',\n",
              " 'n02093428-American_Staffordshire_terrier',\n",
              " 'n02093647-Bedlington_terrier',\n",
              " 'n02093754-Border_terrier',\n",
              " 'n02093859-Kerry_blue_terrier',\n",
              " 'n02093991-Irish_terrier',\n",
              " 'n02094114-Norfolk_terrier',\n",
              " 'n02094258-Norwich_terrier',\n",
              " 'n02094433-Yorkshire_terrier',\n",
              " 'n02095314-wire-haired_fox_terrier',\n",
              " 'n02095570-Lakeland_terrier',\n",
              " 'n02095889-Sealyham_terrier',\n",
              " 'n02096051-Airedale',\n",
              " 'n02096177-cairn',\n",
              " 'n02096294-Australian_terrier',\n",
              " 'n02096437-Dandie_Dinmont',\n",
              " 'n02096585-Boston_bull',\n",
              " 'n02097047-miniature_schnauzer',\n",
              " 'n02097130-giant_schnauzer',\n",
              " 'n02097209-standard_schnauzer',\n",
              " 'n02097298-Scotch_terrier',\n",
              " 'n02097474-Tibetan_terrier',\n",
              " 'n02097658-silky_terrier',\n",
              " 'n02098105-soft-coated_wheaten_terrier',\n",
              " 'n02098286-West_Highland_white_terrier',\n",
              " 'n02098413-Lhasa',\n",
              " 'n02099267-flat-coated_retriever',\n",
              " 'n02099429-curly-coated_retriever',\n",
              " 'n02099601-golden_retriever',\n",
              " 'n02099712-Labrador_retriever',\n",
              " 'n02099849-Chesapeake_Bay_retriever',\n",
              " 'n02100236-German_short-haired_pointer',\n",
              " 'n02100583-vizsla',\n",
              " 'n02100735-English_setter',\n",
              " 'n02100877-Irish_setter',\n",
              " 'n02101006-Gordon_setter',\n",
              " 'n02101388-Brittany_spaniel',\n",
              " 'n02101556-clumber',\n",
              " 'n02102040-English_springer',\n",
              " 'n02102177-Welsh_springer_spaniel',\n",
              " 'n02102318-cocker_spaniel',\n",
              " 'n02102480-Sussex_spaniel',\n",
              " 'n02102973-Irish_water_spaniel',\n",
              " 'n02104029-kuvasz',\n",
              " 'n02104365-schipperke',\n",
              " 'n02105056-groenendael',\n",
              " 'n02105162-malinois',\n",
              " 'n02105251-briard',\n",
              " 'n02105412-kelpie',\n",
              " 'n02105505-komondor',\n",
              " 'n02105641-Old_English_sheepdog',\n",
              " 'n02105855-Shetland_sheepdog',\n",
              " 'n02106030-collie',\n",
              " 'n02106166-Border_collie',\n",
              " 'n02106382-Bouvier_des_Flandres',\n",
              " 'n02106550-Rottweiler',\n",
              " 'n02106662-German_shepherd',\n",
              " 'n02107142-Doberman',\n",
              " 'n02107312-miniature_pinscher',\n",
              " 'n02107574-Greater_Swiss_Mountain_dog',\n",
              " 'n02107683-Bernese_mountain_dog',\n",
              " 'n02107908-Appenzeller',\n",
              " 'n02108000-EntleBucher',\n",
              " 'n02108089-boxer',\n",
              " 'n02108422-bull_mastiff',\n",
              " 'n02108551-Tibetan_mastiff',\n",
              " 'n02108915-French_bulldog',\n",
              " 'n02109047-Great_Dane',\n",
              " 'n02109525-Saint_Bernard',\n",
              " 'n02109961-Eskimo_dog',\n",
              " 'n02110063-malamute',\n",
              " 'n02110185-Siberian_husky',\n",
              " 'n02110627-affenpinscher',\n",
              " 'n02110806-basenji',\n",
              " 'n02110958-pug',\n",
              " 'n02111129-Leonberg',\n",
              " 'n02111277-Newfoundland',\n",
              " 'n02111500-Great_Pyrenees',\n",
              " 'n02111889-Samoyed',\n",
              " 'n02112018-Pomeranian',\n",
              " 'n02112137-chow',\n",
              " 'n02112350-keeshond',\n",
              " 'n02112706-Brabancon_griffon',\n",
              " 'n02113023-Pembroke',\n",
              " 'n02113186-Cardigan',\n",
              " 'n02113624-toy_poodle',\n",
              " 'n02113712-miniature_poodle',\n",
              " 'n02113799-standard_poodle',\n",
              " 'n02113978-Mexican_hairless',\n",
              " 'n02115641-dingo',\n",
              " 'n02115913-dhole',\n",
              " 'n02116738-African_hunting_dog']"
            ]
          },
          "metadata": {},
          "execution_count": 9
        }
      ]
    },
    {
      "cell_type": "markdown",
      "source": [
        "## Building CNN model"
      ],
      "metadata": {
        "id": "iz7IqtCHAZ4M"
      }
    },
    {
      "cell_type": "code",
      "source": [
        "model = Sequential()\n",
        "\n",
        "uploaded_model = tf.keras.applications.efficientnet_v2.EfficientNetV2B0(\n",
        "    include_top= False,\n",
        "    weights='imagenet',\n",
        "    input_shape= (224,224,3),\n",
        "    pooling=\"max\",\n",
        "    classes=120,\n",
        "\n",
        ")\n",
        "\n",
        "for layer in uploaded_model.layers:\n",
        "  layer.trainable = False\n",
        "\n",
        "model.add(uploaded_model)\n",
        "model.add(Flatten())\n",
        "model.add(Dense(512,activation=\"relu\"))\n",
        "model.add(Dense(256,activation=\"relu\"))\n",
        "model.add(Dense(120,activation=\"softmax\"))"
      ],
      "metadata": {
        "colab": {
          "base_uri": "https://localhost:8080/"
        },
        "id": "ro3JLwNl3rGd",
        "outputId": "2969619c-b320-4a65-d5c9-2bcbba603139"
      },
      "execution_count": null,
      "outputs": [
        {
          "output_type": "stream",
          "name": "stdout",
          "text": [
            "Downloading data from https://storage.googleapis.com/tensorflow/keras-applications/efficientnet_v2/efficientnetv2-b0_notop.h5\n",
            "24274472/24274472 [==============================] - 0s 0us/step\n"
          ]
        }
      ]
    },
    {
      "cell_type": "code",
      "source": [
        "model.summary()"
      ],
      "metadata": {
        "colab": {
          "base_uri": "https://localhost:8080/"
        },
        "id": "DM-y_x0d5gWB",
        "outputId": "bdb4b074-e7dd-475d-81ce-06f0b342c574"
      },
      "execution_count": null,
      "outputs": [
        {
          "output_type": "stream",
          "name": "stdout",
          "text": [
            "Model: \"sequential\"\n",
            "_________________________________________________________________\n",
            " Layer (type)                Output Shape              Param #   \n",
            "=================================================================\n",
            " efficientnetv2-b0 (Functio  (None, 1280)              5919312   \n",
            " nal)                                                            \n",
            "                                                                 \n",
            " flatten (Flatten)           (None, 1280)              0         \n",
            "                                                                 \n",
            " dense (Dense)               (None, 512)               655872    \n",
            "                                                                 \n",
            " dense_1 (Dense)             (None, 256)               131328    \n",
            "                                                                 \n",
            " dense_2 (Dense)             (None, 120)               30840     \n",
            "                                                                 \n",
            "=================================================================\n",
            "Total params: 6737352 (25.70 MB)\n",
            "Trainable params: 818040 (3.12 MB)\n",
            "Non-trainable params: 5919312 (22.58 MB)\n",
            "_________________________________________________________________\n"
          ]
        }
      ]
    },
    {
      "cell_type": "markdown",
      "source": [
        "## Training the model"
      ],
      "metadata": {
        "id": "i_QDcTL5Agqg"
      }
    },
    {
      "cell_type": "code",
      "source": [
        "model.compile(optimizer=Adam(learning_rate=0.001) ,loss ='categorical_crossentropy',metrics = ['accuracy'])"
      ],
      "metadata": {
        "id": "vFvIHdAz55SV"
      },
      "execution_count": null,
      "outputs": []
    },
    {
      "cell_type": "code",
      "source": [
        "epochs = 24\n",
        "history = model.fit(\n",
        "    train_ds,\n",
        "    validation_data = val_ds,\n",
        "    epochs = epochs\n",
        ")"
      ],
      "metadata": {
        "colab": {
          "base_uri": "https://localhost:8080/"
        },
        "id": "ormsh3q26EW9",
        "outputId": "10c92ef2-015e-4357-af57-f4128c5f9260"
      },
      "execution_count": null,
      "outputs": [
        {
          "output_type": "stream",
          "name": "stdout",
          "text": [
            "Epoch 1/24\n",
            "515/515 [==============================] - 58s 79ms/step - loss: 1.2664 - accuracy: 0.6654 - val_loss: 0.7177 - val_accuracy: 0.8003\n",
            "Epoch 2/24\n",
            "515/515 [==============================] - 35s 68ms/step - loss: 0.6667 - accuracy: 0.7929 - val_loss: 0.6700 - val_accuracy: 0.8052\n",
            "Epoch 3/24\n",
            "515/515 [==============================] - 39s 77ms/step - loss: 0.5573 - accuracy: 0.8214 - val_loss: 0.6204 - val_accuracy: 0.8241\n",
            "Epoch 4/24\n",
            "515/515 [==============================] - 36s 70ms/step - loss: 0.4923 - accuracy: 0.8427 - val_loss: 0.5894 - val_accuracy: 0.8389\n",
            "Epoch 5/24\n",
            "515/515 [==============================] - 40s 77ms/step - loss: 0.4445 - accuracy: 0.8549 - val_loss: 0.6272 - val_accuracy: 0.8243\n",
            "Epoch 6/24\n",
            "515/515 [==============================] - 36s 69ms/step - loss: 0.4078 - accuracy: 0.8636 - val_loss: 0.6621 - val_accuracy: 0.8265\n",
            "Epoch 7/24\n",
            "515/515 [==============================] - 36s 70ms/step - loss: 0.3913 - accuracy: 0.8717 - val_loss: 0.6843 - val_accuracy: 0.8253\n",
            "Epoch 8/24\n",
            "515/515 [==============================] - 36s 69ms/step - loss: 0.3541 - accuracy: 0.8803 - val_loss: 0.6373 - val_accuracy: 0.8367\n",
            "Epoch 9/24\n",
            "515/515 [==============================] - 36s 69ms/step - loss: 0.3425 - accuracy: 0.8839 - val_loss: 0.6820 - val_accuracy: 0.8372\n",
            "Epoch 10/24\n",
            "515/515 [==============================] - 40s 77ms/step - loss: 0.3281 - accuracy: 0.8893 - val_loss: 0.6861 - val_accuracy: 0.8445\n",
            "Epoch 11/24\n",
            "515/515 [==============================] - 36s 70ms/step - loss: 0.3029 - accuracy: 0.8974 - val_loss: 0.6624 - val_accuracy: 0.8414\n",
            "Epoch 12/24\n",
            "515/515 [==============================] - 40s 77ms/step - loss: 0.2926 - accuracy: 0.9011 - val_loss: 0.7188 - val_accuracy: 0.8370\n",
            "Epoch 13/24\n",
            "515/515 [==============================] - 36s 69ms/step - loss: 0.2877 - accuracy: 0.9028 - val_loss: 0.7489 - val_accuracy: 0.8472\n",
            "Epoch 14/24\n",
            "515/515 [==============================] - 40s 77ms/step - loss: 0.2626 - accuracy: 0.9124 - val_loss: 0.7273 - val_accuracy: 0.8370\n",
            "Epoch 15/24\n",
            "515/515 [==============================] - 36s 69ms/step - loss: 0.2634 - accuracy: 0.9113 - val_loss: 0.7790 - val_accuracy: 0.8387\n",
            "Epoch 16/24\n",
            "515/515 [==============================] - 36s 69ms/step - loss: 0.2643 - accuracy: 0.9128 - val_loss: 0.7232 - val_accuracy: 0.8404\n",
            "Epoch 17/24\n",
            "515/515 [==============================] - 36s 69ms/step - loss: 0.2339 - accuracy: 0.9216 - val_loss: 0.7882 - val_accuracy: 0.8450\n",
            "Epoch 18/24\n",
            "515/515 [==============================] - 36s 69ms/step - loss: 0.2389 - accuracy: 0.9212 - val_loss: 0.8368 - val_accuracy: 0.8445\n",
            "Epoch 19/24\n",
            "515/515 [==============================] - 36s 69ms/step - loss: 0.2356 - accuracy: 0.9236 - val_loss: 0.9140 - val_accuracy: 0.8324\n",
            "Epoch 20/24\n",
            "515/515 [==============================] - 36s 70ms/step - loss: 0.2286 - accuracy: 0.9265 - val_loss: 0.8509 - val_accuracy: 0.8406\n",
            "Epoch 21/24\n",
            "515/515 [==============================] - 36s 69ms/step - loss: 0.2253 - accuracy: 0.9289 - val_loss: 0.8365 - val_accuracy: 0.8491\n",
            "Epoch 22/24\n",
            "515/515 [==============================] - 36s 69ms/step - loss: 0.1962 - accuracy: 0.9359 - val_loss: 0.8679 - val_accuracy: 0.8438\n",
            "Epoch 23/24\n",
            "515/515 [==============================] - 37s 71ms/step - loss: 0.2036 - accuracy: 0.9365 - val_loss: 0.9056 - val_accuracy: 0.8360\n",
            "Epoch 24/24\n",
            "515/515 [==============================] - 40s 77ms/step - loss: 0.2316 - accuracy: 0.9285 - val_loss: 0.9086 - val_accuracy: 0.8428\n"
          ]
        }
      ]
    },
    {
      "cell_type": "code",
      "source": [
        "uploaded = files.upload()"
      ],
      "metadata": {
        "colab": {
          "base_uri": "https://localhost:8080/",
          "height": 107
        },
        "id": "yNPN6YHK-zQq",
        "outputId": "50e81058-bf65-411f-d716-9ce561c29e8f"
      },
      "execution_count": null,
      "outputs": [
        {
          "output_type": "display_data",
          "data": {
            "text/plain": [
              "<IPython.core.display.HTML object>"
            ],
            "text/html": [
              "\n",
              "     <input type=\"file\" id=\"files-fe037283-986e-4745-af6a-6f0cb474c936\" name=\"files[]\" multiple disabled\n",
              "        style=\"border:none\" />\n",
              "     <output id=\"result-fe037283-986e-4745-af6a-6f0cb474c936\">\n",
              "      Upload widget is only available when the cell has been executed in the\n",
              "      current browser session. Please rerun this cell to enable.\n",
              "      </output>\n",
              "      <script>// Copyright 2017 Google LLC\n",
              "//\n",
              "// Licensed under the Apache License, Version 2.0 (the \"License\");\n",
              "// you may not use this file except in compliance with the License.\n",
              "// You may obtain a copy of the License at\n",
              "//\n",
              "//      http://www.apache.org/licenses/LICENSE-2.0\n",
              "//\n",
              "// Unless required by applicable law or agreed to in writing, software\n",
              "// distributed under the License is distributed on an \"AS IS\" BASIS,\n",
              "// WITHOUT WARRANTIES OR CONDITIONS OF ANY KIND, either express or implied.\n",
              "// See the License for the specific language governing permissions and\n",
              "// limitations under the License.\n",
              "\n",
              "/**\n",
              " * @fileoverview Helpers for google.colab Python module.\n",
              " */\n",
              "(function(scope) {\n",
              "function span(text, styleAttributes = {}) {\n",
              "  const element = document.createElement('span');\n",
              "  element.textContent = text;\n",
              "  for (const key of Object.keys(styleAttributes)) {\n",
              "    element.style[key] = styleAttributes[key];\n",
              "  }\n",
              "  return element;\n",
              "}\n",
              "\n",
              "// Max number of bytes which will be uploaded at a time.\n",
              "const MAX_PAYLOAD_SIZE = 100 * 1024;\n",
              "\n",
              "function _uploadFiles(inputId, outputId) {\n",
              "  const steps = uploadFilesStep(inputId, outputId);\n",
              "  const outputElement = document.getElementById(outputId);\n",
              "  // Cache steps on the outputElement to make it available for the next call\n",
              "  // to uploadFilesContinue from Python.\n",
              "  outputElement.steps = steps;\n",
              "\n",
              "  return _uploadFilesContinue(outputId);\n",
              "}\n",
              "\n",
              "// This is roughly an async generator (not supported in the browser yet),\n",
              "// where there are multiple asynchronous steps and the Python side is going\n",
              "// to poll for completion of each step.\n",
              "// This uses a Promise to block the python side on completion of each step,\n",
              "// then passes the result of the previous step as the input to the next step.\n",
              "function _uploadFilesContinue(outputId) {\n",
              "  const outputElement = document.getElementById(outputId);\n",
              "  const steps = outputElement.steps;\n",
              "\n",
              "  const next = steps.next(outputElement.lastPromiseValue);\n",
              "  return Promise.resolve(next.value.promise).then((value) => {\n",
              "    // Cache the last promise value to make it available to the next\n",
              "    // step of the generator.\n",
              "    outputElement.lastPromiseValue = value;\n",
              "    return next.value.response;\n",
              "  });\n",
              "}\n",
              "\n",
              "/**\n",
              " * Generator function which is called between each async step of the upload\n",
              " * process.\n",
              " * @param {string} inputId Element ID of the input file picker element.\n",
              " * @param {string} outputId Element ID of the output display.\n",
              " * @return {!Iterable<!Object>} Iterable of next steps.\n",
              " */\n",
              "function* uploadFilesStep(inputId, outputId) {\n",
              "  const inputElement = document.getElementById(inputId);\n",
              "  inputElement.disabled = false;\n",
              "\n",
              "  const outputElement = document.getElementById(outputId);\n",
              "  outputElement.innerHTML = '';\n",
              "\n",
              "  const pickedPromise = new Promise((resolve) => {\n",
              "    inputElement.addEventListener('change', (e) => {\n",
              "      resolve(e.target.files);\n",
              "    });\n",
              "  });\n",
              "\n",
              "  const cancel = document.createElement('button');\n",
              "  inputElement.parentElement.appendChild(cancel);\n",
              "  cancel.textContent = 'Cancel upload';\n",
              "  const cancelPromise = new Promise((resolve) => {\n",
              "    cancel.onclick = () => {\n",
              "      resolve(null);\n",
              "    };\n",
              "  });\n",
              "\n",
              "  // Wait for the user to pick the files.\n",
              "  const files = yield {\n",
              "    promise: Promise.race([pickedPromise, cancelPromise]),\n",
              "    response: {\n",
              "      action: 'starting',\n",
              "    }\n",
              "  };\n",
              "\n",
              "  cancel.remove();\n",
              "\n",
              "  // Disable the input element since further picks are not allowed.\n",
              "  inputElement.disabled = true;\n",
              "\n",
              "  if (!files) {\n",
              "    return {\n",
              "      response: {\n",
              "        action: 'complete',\n",
              "      }\n",
              "    };\n",
              "  }\n",
              "\n",
              "  for (const file of files) {\n",
              "    const li = document.createElement('li');\n",
              "    li.append(span(file.name, {fontWeight: 'bold'}));\n",
              "    li.append(span(\n",
              "        `(${file.type || 'n/a'}) - ${file.size} bytes, ` +\n",
              "        `last modified: ${\n",
              "            file.lastModifiedDate ? file.lastModifiedDate.toLocaleDateString() :\n",
              "                                    'n/a'} - `));\n",
              "    const percent = span('0% done');\n",
              "    li.appendChild(percent);\n",
              "\n",
              "    outputElement.appendChild(li);\n",
              "\n",
              "    const fileDataPromise = new Promise((resolve) => {\n",
              "      const reader = new FileReader();\n",
              "      reader.onload = (e) => {\n",
              "        resolve(e.target.result);\n",
              "      };\n",
              "      reader.readAsArrayBuffer(file);\n",
              "    });\n",
              "    // Wait for the data to be ready.\n",
              "    let fileData = yield {\n",
              "      promise: fileDataPromise,\n",
              "      response: {\n",
              "        action: 'continue',\n",
              "      }\n",
              "    };\n",
              "\n",
              "    // Use a chunked sending to avoid message size limits. See b/62115660.\n",
              "    let position = 0;\n",
              "    do {\n",
              "      const length = Math.min(fileData.byteLength - position, MAX_PAYLOAD_SIZE);\n",
              "      const chunk = new Uint8Array(fileData, position, length);\n",
              "      position += length;\n",
              "\n",
              "      const base64 = btoa(String.fromCharCode.apply(null, chunk));\n",
              "      yield {\n",
              "        response: {\n",
              "          action: 'append',\n",
              "          file: file.name,\n",
              "          data: base64,\n",
              "        },\n",
              "      };\n",
              "\n",
              "      let percentDone = fileData.byteLength === 0 ?\n",
              "          100 :\n",
              "          Math.round((position / fileData.byteLength) * 100);\n",
              "      percent.textContent = `${percentDone}% done`;\n",
              "\n",
              "    } while (position < fileData.byteLength);\n",
              "  }\n",
              "\n",
              "  // All done.\n",
              "  yield {\n",
              "    response: {\n",
              "      action: 'complete',\n",
              "    }\n",
              "  };\n",
              "}\n",
              "\n",
              "scope.google = scope.google || {};\n",
              "scope.google.colab = scope.google.colab || {};\n",
              "scope.google.colab._files = {\n",
              "  _uploadFiles,\n",
              "  _uploadFilesContinue,\n",
              "};\n",
              "})(self);\n",
              "</script> "
            ]
          },
          "metadata": {}
        },
        {
          "output_type": "stream",
          "name": "stdout",
          "text": [
            "Saving Chihuahua_test2.png to Chihuahua_test2.png\n",
            "Saving Italian_greyhound_test3.png to Italian_greyhound_test3.png\n"
          ]
        }
      ]
    },
    {
      "cell_type": "code",
      "source": [
        "image = cv2.imread(str(os.path.join('/content/Labrador_retriever_test1.png')))\n",
        "image_resized = cv2.resize(image,(img_height,img_width))\n",
        "image = np.expand_dims(image_resized,axis=0)\n",
        "\n",
        "pred = model.predict(image)\n",
        "pred_class = class_names[np.argmax(pred)]\n",
        "print(pred_class[10:])"
      ],
      "metadata": {
        "colab": {
          "base_uri": "https://localhost:8080/"
        },
        "id": "OGw5luCAAT-y",
        "outputId": "09608bfb-8f9b-4c68-8562-0c3e1900c965"
      },
      "execution_count": null,
      "outputs": [
        {
          "output_type": "stream",
          "name": "stdout",
          "text": [
            "1/1 [==============================] - 3s 3s/step\n",
            "Weimaraner\n"
          ]
        }
      ]
    },
    {
      "cell_type": "markdown",
      "source": [
        "## Model predictions\n",
        "\n",
        "\n",
        "\n"
      ],
      "metadata": {
        "id": "M6AQBOsjAk57"
      }
    },
    {
      "cell_type": "markdown",
      "source": [
        "\n",
        "\n",
        "### we need the input image to be cropped. So we are going to use YOLOv8 to make boundary box around the dog image and crop the dog only.\n",
        "\n",
        "\n"
      ],
      "metadata": {
        "id": "K_w3-6iyAwb3"
      }
    },
    {
      "cell_type": "code",
      "source": [
        "from ultralytics import YOLO\n",
        "\n",
        "model_object_detection = YOLO('yolov8n.pt')\n",
        "print(model_object_detection.names)"
      ],
      "metadata": {
        "colab": {
          "base_uri": "https://localhost:8080/"
        },
        "id": "dbpFeQU9AdJw",
        "outputId": "140a3fe9-d5ca-4d7f-cf5d-e21e31641ea8"
      },
      "execution_count": null,
      "outputs": [
        {
          "output_type": "stream",
          "name": "stderr",
          "text": [
            "Downloading https://github.com/ultralytics/assets/releases/download/v0.0.0/yolov8n.pt to 'yolov8n.pt'...\n",
            "100%|██████████| 6.23M/6.23M [00:00<00:00, 122MB/s]"
          ]
        },
        {
          "output_type": "stream",
          "name": "stdout",
          "text": [
            "{0: 'person', 1: 'bicycle', 2: 'car', 3: 'motorcycle', 4: 'airplane', 5: 'bus', 6: 'train', 7: 'truck', 8: 'boat', 9: 'traffic light', 10: 'fire hydrant', 11: 'stop sign', 12: 'parking meter', 13: 'bench', 14: 'bird', 15: 'cat', 16: 'dog', 17: 'horse', 18: 'sheep', 19: 'cow', 20: 'elephant', 21: 'bear', 22: 'zebra', 23: 'giraffe', 24: 'backpack', 25: 'umbrella', 26: 'handbag', 27: 'tie', 28: 'suitcase', 29: 'frisbee', 30: 'skis', 31: 'snowboard', 32: 'sports ball', 33: 'kite', 34: 'baseball bat', 35: 'baseball glove', 36: 'skateboard', 37: 'surfboard', 38: 'tennis racket', 39: 'bottle', 40: 'wine glass', 41: 'cup', 42: 'fork', 43: 'knife', 44: 'spoon', 45: 'bowl', 46: 'banana', 47: 'apple', 48: 'sandwich', 49: 'orange', 50: 'broccoli', 51: 'carrot', 52: 'hot dog', 53: 'pizza', 54: 'donut', 55: 'cake', 56: 'chair', 57: 'couch', 58: 'potted plant', 59: 'bed', 60: 'dining table', 61: 'toilet', 62: 'tv', 63: 'laptop', 64: 'mouse', 65: 'remote', 66: 'keyboard', 67: 'cell phone', 68: 'microwave', 69: 'oven', 70: 'toaster', 71: 'sink', 72: 'refrigerator', 73: 'book', 74: 'clock', 75: 'vase', 76: 'scissors', 77: 'teddy bear', 78: 'hair drier', 79: 'toothbrush'}\n"
          ]
        },
        {
          "output_type": "stream",
          "name": "stderr",
          "text": [
            "\n"
          ]
        }
      ]
    },
    {
      "cell_type": "code",
      "source": [
        "image = cv2.imread(str(os.path.join('/content/Chihuahua_test2.png')))\n",
        "image_resized = cv2.resize(image,(img_height,img_width))\n",
        "image = np.expand_dims(image_resized,axis=0)\n",
        "\n",
        "pred = model.predict(image)\n",
        "pred_class = class_names[np.argmax(pred)]\n",
        "print(pred_class[10:])"
      ],
      "metadata": {
        "colab": {
          "base_uri": "https://localhost:8080/"
        },
        "id": "JC8IItYOBZsf",
        "outputId": "9ce4d707-8ad2-4290-a198-962851d22e7a"
      },
      "execution_count": null,
      "outputs": [
        {
          "output_type": "stream",
          "name": "stdout",
          "text": [
            "1/1 [==============================] - 3s 3s/step\n",
            "Chihuahua\n"
          ]
        }
      ]
    },
    {
      "cell_type": "code",
      "source": [
        "def detect_dog(frame):\n",
        "  detections = model_object_detection(frame)[0]\n",
        "  detections_ = []\n",
        "  for detection in detections.boxes.data.tolist():\n",
        "    #print(detection)\n",
        "    x1,y1,x2,y2,score, class_id = detection\n",
        "    if int(class_id) == 16:\n",
        "      detections_.append([x1,y1,x2,y2,score])\n",
        "  return detections_\n",
        "\n",
        "\n",
        "def crop_only_bb(image_path):\n",
        "  dog = cv2.imread(str(os.path.join(image_path)))\n",
        "  (x_center,y_center,bb_height,bb_width,score) = detect_dog(dog)[0]\n",
        "  image_width = dog.shape[1]\n",
        "  image_height = dog.shape[0]\n",
        "  dog_cropped = dog[int(y_center):int(bb_width), int(x_center):int(bb_height),:]\n",
        "  cv2.imwrite('cropped_img.jpg', dog_cropped)"
      ],
      "metadata": {
        "id": "LeObhUFPVbS8"
      },
      "execution_count": null,
      "outputs": []
    },
    {
      "cell_type": "markdown",
      "source": [
        "### Uploading the image and prediction"
      ],
      "metadata": {
        "id": "fQIumYKtBg-g"
      }
    },
    {
      "cell_type": "code",
      "source": [
        "uploaded = files.upload()"
      ],
      "metadata": {
        "id": "n0i7k3hroHPz"
      },
      "execution_count": null,
      "outputs": []
    },
    {
      "cell_type": "code",
      "source": [
        "crop_only_bb('/content/Chihuahua_test2.png')\n",
        "image = cv2.imread(str(os.path.join('/content/cropped_img.jpg')))\n",
        "image_resized = cv2.resize(image,(img_height,img_width))\n",
        "image = np.expand_dims(image_resized,axis=0)\n",
        "pred = model.predict(image)\n",
        "pred_class = class_names[np.argmax(pred)]\n",
        "print(pred_class[10:])"
      ],
      "metadata": {
        "id": "b-HS8qCxquLb"
      },
      "execution_count": null,
      "outputs": []
    },
    {
      "cell_type": "markdown",
      "source": [
        "### Downloading the model created"
      ],
      "metadata": {
        "id": "7DNEgcyUBqIO"
      }
    },
    {
      "cell_type": "code",
      "source": [],
      "metadata": {
        "id": "9jln9FPTt0fJ"
      },
      "execution_count": null,
      "outputs": []
    }
  ]
}